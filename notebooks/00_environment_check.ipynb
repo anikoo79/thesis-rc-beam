{
 "cells": [
  {
   "cell_type": "markdown",
   "id": "6f5ddb3d-3aff-448c-8cce-880288e4657e",
   "metadata": {},
   "source": [
    "# Thesis Environment Check\n",
    "Verifies Python, OS, and key packages for reproducibility."
   ]
  },
  {
   "cell_type": "code",
   "execution_count": 1,
   "id": "44d5a2db-0d57-470b-945d-5d01198a7abe",
   "metadata": {
    "scrolled": true
   },
   "outputs": [
    {
     "name": "stdout",
     "output_type": "stream",
     "text": [
      "Python: 3.10.18 | packaged by Anaconda, Inc. | (main, Jun  5 2025, 13:08:55) [MSC v.1929 64 bit (AMD64)]\n",
      "OS: Windows-10-10.0.19045-SP0\n",
      "Machine: DESKTOP-8M0708V\n",
      "Conda env: thesis-env\n",
      "---- Packages ----\n",
      "numpy       : 2.1.3\n",
      "pandas      : 2.3.3\n",
      "matplotlib  : 3.10.6\n",
      "scipy       : 1.15.2\n",
      "sklearn     : 1.7.2\n",
      "tensorflow  : 2.19.1\n",
      "ipykernel   : 7.0.1\n",
      "jupyterlab  : 4.4.9\n",
      "openpyxl    : 3.1.5\n"
     ]
    }
   ],
   "source": [
    "import sys, os, platform\n",
    "\n",
    "def pkg_ver(name):\n",
    "    try:\n",
    "        mod = __import__(name)\n",
    "        return getattr(mod, \"__version__\", \"unknown\")\n",
    "    except Exception as e:\n",
    "        return f\"not installed ({e})\"\n",
    "\n",
    "print(\"Python:\", sys.version)\n",
    "print(\"OS:\", platform.platform())\n",
    "print(\"Machine:\", platform.node())\n",
    "print(\"Conda env:\", os.environ.get(\"CONDA_DEFAULT_ENV\", \"unknown\"))\n",
    "print(\"---- Packages ----\")\n",
    "for p in [\"numpy\", \"pandas\", \"matplotlib\", \"scipy\", \"sklearn\", \"tensorflow\", \"ipykernel\", \"jupyterlab\", \"openpyxl\"]:\n",
    "    print(f\"{p:12s}:\", pkg_ver(p))\n"
   ]
  },
  {
   "cell_type": "code",
   "execution_count": 1,
   "id": "814fa6dd-9a3f-4072-8007-0f5c8ab3f263",
   "metadata": {},
   "outputs": [
    {
     "name": "stdout",
     "output_type": "stream",
     "text": [
      "Wrote: C:\\Users\\amirn\\thesis-rc-beam\\thesis-rc-beam-clone\\data\\sciebo_test.csv | exists: True\n"
     ]
    }
   ],
   "source": [
    "from pathlib import Path\n",
    "import pandas as pd\n",
    "\n",
    "# Resolve project root and data dir from this notebook\n",
    "ROOT = Path.cwd().parent if Path.cwd().name.lower()==\"notebooks\" else Path.cwd()\n",
    "DATA = ROOT / \"data\"\n",
    "\n",
    "df = pd.DataFrame({\"a\":[1,2,3], \"b\":[10,20,30]})\n",
    "out = DATA / \"sciebo_test.csv\"\n",
    "df.to_csv(out, index=False)\n",
    "print(\"Wrote:\", out, \"| exists:\", out.exists())\n"
   ]
  },
  {
   "cell_type": "code",
   "execution_count": null,
   "id": "eb08f9b8-9064-43e2-93fb-30fbd13fbe3b",
   "metadata": {},
   "outputs": [],
   "source": []
  }
 ],
 "metadata": {
  "kernelspec": {
   "display_name": "Python (thesis-env)",
   "language": "python",
   "name": "thesis-env"
  },
  "language_info": {
   "codemirror_mode": {
    "name": "ipython",
    "version": 3
   },
   "file_extension": ".py",
   "mimetype": "text/x-python",
   "name": "python",
   "nbconvert_exporter": "python",
   "pygments_lexer": "ipython3",
   "version": "3.10.18"
  }
 },
 "nbformat": 4,
 "nbformat_minor": 5
}
