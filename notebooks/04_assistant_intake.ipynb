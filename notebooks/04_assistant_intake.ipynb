{
 "cells": [
  {
   "cell_type": "code",
   "execution_count": 1,
   "id": "d2c6dcf4-2fdf-44a9-9d81-14918e2d0854",
   "metadata": {},
   "outputs": [
    {
     "name": "stdout",
     "output_type": "stream",
     "text": [
      "RAW assistant folder: C:\\Users\\amirn\\thesis-rc-beam\\data\\raw\\assistant\n",
      "Wrote summary: C:\\Users\\amirn\\thesis-rc-beam\\data\\samples\\ec2\\assistant_file_summary.csv\n"
     ]
    },
    {
     "data": {
      "text/html": [
       "<div>\n",
       "<style scoped>\n",
       "    .dataframe tbody tr th:only-of-type {\n",
       "        vertical-align: middle;\n",
       "    }\n",
       "\n",
       "    .dataframe tbody tr th {\n",
       "        vertical-align: top;\n",
       "    }\n",
       "\n",
       "    .dataframe thead th {\n",
       "        text-align: right;\n",
       "    }\n",
       "</style>\n",
       "<table border=\"1\" class=\"dataframe\">\n",
       "  <thead>\n",
       "    <tr style=\"text-align: right;\">\n",
       "      <th></th>\n",
       "      <th>file</th>\n",
       "      <th>type</th>\n",
       "      <th>shape</th>\n",
       "      <th>dtype</th>\n",
       "    </tr>\n",
       "  </thead>\n",
       "  <tbody>\n",
       "    <tr>\n",
       "      <th>0</th>\n",
       "      <td>ACI440_Mn.npy</td>\n",
       "      <td>npy</td>\n",
       "      <td>(100, 301, 100)</td>\n",
       "      <td>float64</td>\n",
       "    </tr>\n",
       "    <tr>\n",
       "      <th>1</th>\n",
       "      <td>Ana_TTC_M_u.npy</td>\n",
       "      <td>npy</td>\n",
       "      <td>(100, 301, 100)</td>\n",
       "      <td>float64</td>\n",
       "    </tr>\n",
       "    <tr>\n",
       "      <th>2</th>\n",
       "      <td>Design_space2.npy</td>\n",
       "      <td>npy</td>\n",
       "      <td>(3010000, 3)</td>\n",
       "      <td>float64</td>\n",
       "    </tr>\n",
       "    <tr>\n",
       "      <th>3</th>\n",
       "      <td>designspace_meshgrid_data.npz::rho_mesh</td>\n",
       "      <td>npz</td>\n",
       "      <td>(100, 301, 100)</td>\n",
       "      <td>float64</td>\n",
       "    </tr>\n",
       "    <tr>\n",
       "      <th>4</th>\n",
       "      <td>designspace_meshgrid_data.npz::b_mesh</td>\n",
       "      <td>npz</td>\n",
       "      <td>(100, 301, 100)</td>\n",
       "      <td>float64</td>\n",
       "    </tr>\n",
       "    <tr>\n",
       "      <th>5</th>\n",
       "      <td>designspace_meshgrid_data.npz::d_mesh</td>\n",
       "      <td>npz</td>\n",
       "      <td>(100, 301, 100)</td>\n",
       "      <td>float64</td>\n",
       "    </tr>\n",
       "    <tr>\n",
       "      <th>6</th>\n",
       "      <td>Mu2.npy</td>\n",
       "      <td>npy</td>\n",
       "      <td>(3010000,)</td>\n",
       "      <td>float64</td>\n",
       "    </tr>\n",
       "  </tbody>\n",
       "</table>\n",
       "</div>"
      ],
      "text/plain": [
       "                                      file type            shape    dtype\n",
       "0                            ACI440_Mn.npy  npy  (100, 301, 100)  float64\n",
       "1                          Ana_TTC_M_u.npy  npy  (100, 301, 100)  float64\n",
       "2                        Design_space2.npy  npy     (3010000, 3)  float64\n",
       "3  designspace_meshgrid_data.npz::rho_mesh  npz  (100, 301, 100)  float64\n",
       "4    designspace_meshgrid_data.npz::b_mesh  npz  (100, 301, 100)  float64\n",
       "5    designspace_meshgrid_data.npz::d_mesh  npz  (100, 301, 100)  float64\n",
       "6                                  Mu2.npy  npy       (3010000,)  float64"
      ]
     },
     "execution_count": 1,
     "metadata": {},
     "output_type": "execute_result"
    }
   ],
   "source": [
    "from pathlib import Path\n",
    "import numpy as np\n",
    "import pandas as pd\n",
    "\n",
    "# Paths\n",
    "ROOT = Path.cwd().parent if Path.cwd().name.lower()==\"notebooks\" else Path.cwd()\n",
    "RAW = ROOT / \"data\" / \"raw\" / \"assistant\"\n",
    "OUT_SAMPLES = ROOT / \"data\" / \"samples\" / \"ec2\"\n",
    "OUT_SAMPLES.mkdir(parents=True, exist_ok=True)\n",
    "\n",
    "files = sorted([p for p in RAW.glob(\"*\") if p.suffix.lower() in [\".npy\", \".npz\"]])\n",
    "\n",
    "summary_rows = []\n",
    "for p in files:\n",
    "    try:\n",
    "        if p.suffix.lower() == \".npy\":\n",
    "            arr = np.load(p, allow_pickle=False)\n",
    "            summary_rows.append([p.name, \"npy\", arr.shape, str(arr.dtype)])\n",
    "\n",
    "            # tiny preview CSV (only if 1D or 2D)\n",
    "            if arr.ndim == 1:\n",
    "                df = pd.DataFrame({\"value\": arr[:10]})\n",
    "            elif arr.ndim == 2:\n",
    "                df = pd.DataFrame(arr[:10, :min(10, arr.shape[1])])\n",
    "            else:\n",
    "                df = pd.DataFrame({\"notice\":[f\"{p.name} has {arr.ndim} dims; no tabular preview\"]})\n",
    "            df.to_csv(OUT_SAMPLES / f\"{p.stem}_preview.csv\", index=False)\n",
    "\n",
    "        elif p.suffix.lower() == \".npz\":\n",
    "            z = np.load(p, allow_pickle=False)\n",
    "            keys = list(z.keys())\n",
    "            # add one row per array inside\n",
    "            for k in keys:\n",
    "                arr = z[k]\n",
    "                summary_rows.append([f\"{p.name}::{k}\", \"npz\", arr.shape, str(arr.dtype)])\n",
    "            # preview from the first 1D/2D array, if any\n",
    "            for k in keys:\n",
    "                arr = z[k]\n",
    "                if arr.ndim in (1,2):\n",
    "                    if arr.ndim == 1:\n",
    "                        df = pd.DataFrame({\"value\": arr[:10]})\n",
    "                    else:\n",
    "                        df = pd.DataFrame(arr[:10, :min(10, arr.shape[1])])\n",
    "                    df.to_csv(OUT_SAMPLES / f\"{p.stem}_{k}_preview.csv\", index=False)\n",
    "                    break\n",
    "    except Exception as e:\n",
    "        summary_rows.append([p.name, \"error\", None, str(e)])\n",
    "\n",
    "# Build & save summary table\n",
    "summary = pd.DataFrame(summary_rows, columns=[\"file\",\"type\",\"shape\",\"dtype\"])\n",
    "summary_path = OUT_SAMPLES / \"assistant_file_summary.csv\"\n",
    "summary.to_csv(summary_path, index=False)\n",
    "\n",
    "print(\"RAW assistant folder:\", RAW)\n",
    "print(\"Wrote summary:\", summary_path)\n",
    "summary\n"
   ]
  },
  {
   "cell_type": "code",
   "execution_count": 2,
   "id": "e7faab24-9f0c-439b-bb40-c1218ba243b9",
   "metadata": {
    "scrolled": true
   },
   "outputs": [
    {
     "name": "stdout",
     "output_type": "stream",
     "text": [
      "Shape: (3010000, 3)\n",
      "Dtype: float64\n"
     ]
    },
    {
     "data": {
      "text/html": [
       "<div>\n",
       "<style scoped>\n",
       "    .dataframe tbody tr th:only-of-type {\n",
       "        vertical-align: middle;\n",
       "    }\n",
       "\n",
       "    .dataframe tbody tr th {\n",
       "        vertical-align: top;\n",
       "    }\n",
       "\n",
       "    .dataframe thead th {\n",
       "        text-align: right;\n",
       "    }\n",
       "</style>\n",
       "<table border=\"1\" class=\"dataframe\">\n",
       "  <thead>\n",
       "    <tr style=\"text-align: right;\">\n",
       "      <th></th>\n",
       "      <th>count</th>\n",
       "      <th>mean</th>\n",
       "      <th>std</th>\n",
       "      <th>min</th>\n",
       "      <th>25%</th>\n",
       "      <th>50%</th>\n",
       "      <th>75%</th>\n",
       "      <th>max</th>\n",
       "    </tr>\n",
       "  </thead>\n",
       "  <tbody>\n",
       "    <tr>\n",
       "      <th>0</th>\n",
       "      <td>3010000.0</td>\n",
       "      <td>1.005</td>\n",
       "      <td>0.576375</td>\n",
       "      <td>0.01</td>\n",
       "      <td>0.5075</td>\n",
       "      <td>1.005</td>\n",
       "      <td>1.5025</td>\n",
       "      <td>2.0</td>\n",
       "    </tr>\n",
       "    <tr>\n",
       "      <th>1</th>\n",
       "      <td>3010000.0</td>\n",
       "      <td>505.000</td>\n",
       "      <td>288.660748</td>\n",
       "      <td>10.00</td>\n",
       "      <td>257.5000</td>\n",
       "      <td>505.000</td>\n",
       "      <td>752.5000</td>\n",
       "      <td>1000.0</td>\n",
       "    </tr>\n",
       "    <tr>\n",
       "      <th>2</th>\n",
       "      <td>3010000.0</td>\n",
       "      <td>505.000</td>\n",
       "      <td>288.660748</td>\n",
       "      <td>10.00</td>\n",
       "      <td>257.5000</td>\n",
       "      <td>505.000</td>\n",
       "      <td>752.5000</td>\n",
       "      <td>1000.0</td>\n",
       "    </tr>\n",
       "  </tbody>\n",
       "</table>\n",
       "</div>"
      ],
      "text/plain": [
       "       count     mean         std    min       25%      50%       75%     max\n",
       "0  3010000.0    1.005    0.576375   0.01    0.5075    1.005    1.5025     2.0\n",
       "1  3010000.0  505.000  288.660748  10.00  257.5000  505.000  752.5000  1000.0\n",
       "2  3010000.0  505.000  288.660748  10.00  257.5000  505.000  752.5000  1000.0"
      ]
     },
     "metadata": {},
     "output_type": "display_data"
    }
   ],
   "source": [
    "import numpy as np\n",
    "import pandas as pd\n",
    "from pathlib import Path\n",
    "\n",
    "p = Path(r\"C:\\Users\\amirn\\sciebo\\thesis-data\\raw\\assistant\\Design_space2.npy\")\n",
    "arr = np.load(p, allow_pickle=False)\n",
    "print(\"Shape:\", arr.shape)\n",
    "print(\"Dtype:\", arr.dtype)\n",
    "\n",
    "# show quick numeric stats\n",
    "df = pd.DataFrame(arr)\n",
    "desc = df.describe().T\n",
    "display(desc.head(10))\n"
   ]
  },
  {
   "cell_type": "code",
   "execution_count": 3,
   "id": "56dd9677-7603-445c-8ef2-019ac426e467",
   "metadata": {},
   "outputs": [
    {
     "name": "stdout",
     "output_type": "stream",
     "text": [
      "Design_space2: (3010000, 3) float64\n"
     ]
    }
   ],
   "source": [
    "from pathlib import Path\n",
    "import numpy as np\n",
    "\n",
    "RAW = Path.cwd().parent / \"data\" / \"raw\" / \"assistant\"\n",
    "X = np.load(RAW / \"Design_space2.npy\", allow_pickle=False)\n",
    "print(\"Design_space2:\", X.shape, X.dtype)\n"
   ]
  },
  {
   "cell_type": "code",
   "execution_count": 5,
   "id": "12b3a13c-c2fe-4612-9d92-c79e456c6eb4",
   "metadata": {},
   "outputs": [
    {
     "data": {
      "text/html": [
       "<div>\n",
       "<style scoped>\n",
       "    .dataframe tbody tr th:only-of-type {\n",
       "        vertical-align: middle;\n",
       "    }\n",
       "\n",
       "    .dataframe tbody tr th {\n",
       "        vertical-align: top;\n",
       "    }\n",
       "\n",
       "    .dataframe thead th {\n",
       "        text-align: right;\n",
       "    }\n",
       "</style>\n",
       "<table border=\"1\" class=\"dataframe\">\n",
       "  <thead>\n",
       "    <tr style=\"text-align: right;\">\n",
       "      <th></th>\n",
       "      <th>0</th>\n",
       "      <th>1</th>\n",
       "      <th>2</th>\n",
       "    </tr>\n",
       "  </thead>\n",
       "  <tbody>\n",
       "    <tr>\n",
       "      <th>0</th>\n",
       "      <td>0.01</td>\n",
       "      <td>10.0</td>\n",
       "      <td>10.0</td>\n",
       "    </tr>\n",
       "    <tr>\n",
       "      <th>1</th>\n",
       "      <td>0.01</td>\n",
       "      <td>10.0</td>\n",
       "      <td>20.0</td>\n",
       "    </tr>\n",
       "    <tr>\n",
       "      <th>2</th>\n",
       "      <td>0.01</td>\n",
       "      <td>10.0</td>\n",
       "      <td>30.0</td>\n",
       "    </tr>\n",
       "    <tr>\n",
       "      <th>3</th>\n",
       "      <td>0.01</td>\n",
       "      <td>10.0</td>\n",
       "      <td>40.0</td>\n",
       "    </tr>\n",
       "    <tr>\n",
       "      <th>4</th>\n",
       "      <td>0.01</td>\n",
       "      <td>10.0</td>\n",
       "      <td>50.0</td>\n",
       "    </tr>\n",
       "  </tbody>\n",
       "</table>\n",
       "</div>"
      ],
      "text/plain": [
       "      0     1     2\n",
       "0  0.01  10.0  10.0\n",
       "1  0.01  10.0  20.0\n",
       "2  0.01  10.0  30.0\n",
       "3  0.01  10.0  40.0\n",
       "4  0.01  10.0  50.0"
      ]
     },
     "execution_count": 5,
     "metadata": {},
     "output_type": "execute_result"
    }
   ],
   "source": [
    "import numpy as np, pandas as pd\n",
    "X = np.load(r\"C:\\Users\\amirn\\sciebo\\thesis-data\\raw\\assistant\\Design_space2.npy\", allow_pickle=False)\n",
    "pd.DataFrame(X).head()\n"
   ]
  },
  {
   "cell_type": "code",
   "execution_count": 6,
   "id": "fea0d4fc-2fff-4f8f-971b-e347c8fd25af",
   "metadata": {},
   "outputs": [
    {
     "data": {
      "text/plain": [
       "['rho_mesh', 'b_mesh', 'd_mesh']"
      ]
     },
     "execution_count": 6,
     "metadata": {},
     "output_type": "execute_result"
    }
   ],
   "source": [
    "z = np.load(r\"C:\\Users\\amirn\\sciebo\\thesis-data\\raw\\assistant/designspace_meshgrid_data.npz\", allow_pickle=False)\n",
    "list(z.keys())  # then z['some_key']\n"
   ]
  },
  {
   "cell_type": "code",
   "execution_count": 10,
   "id": "8c10230e-55f7-4957-a521-ea5a0ba79591",
   "metadata": {},
   "outputs": [
    {
     "name": "stdout",
     "output_type": "stream",
     "text": [
      "Flattened shape: (3010000,)\n",
      "✅ Perfect! Now the dimensions match.\n"
     ]
    }
   ],
   "source": [
    "y_flat = np.ravel(y)  # or y.flatten()\n",
    "\n",
    "print(\"Flattened shape:\", y_flat.shape)\n",
    "\n",
    "# Verify consistency\n",
    "if len(y_flat) == len(X):\n",
    "    print(\"✅ Perfect! Now the dimensions match.\")\n",
    "else:\n",
    "    print(\"⚠️ Still mismatch — check variable order.\")\n"
   ]
  },
  {
   "cell_type": "code",
   "execution_count": 11,
   "id": "49999f7d-9e87-45e2-8841-fcec24a8e144",
   "metadata": {},
   "outputs": [
    {
     "name": "stdout",
     "output_type": "stream",
     "text": [
      "Design_space2 shape: (3010000, 3)\n",
      "Flattened ACI440_Mn shape: (3010000,)\n",
      "\n",
      "Summary statistics (Moment capacity, Mn):\n"
     ]
    },
    {
     "data": {
      "text/html": [
       "<div>\n",
       "<style scoped>\n",
       "    .dataframe tbody tr th:only-of-type {\n",
       "        vertical-align: middle;\n",
       "    }\n",
       "\n",
       "    .dataframe tbody tr th {\n",
       "        vertical-align: top;\n",
       "    }\n",
       "\n",
       "    .dataframe thead th {\n",
       "        text-align: right;\n",
       "    }\n",
       "</style>\n",
       "<table border=\"1\" class=\"dataframe\">\n",
       "  <thead>\n",
       "    <tr style=\"text-align: right;\">\n",
       "      <th></th>\n",
       "      <th>count</th>\n",
       "      <th>mean</th>\n",
       "      <th>std</th>\n",
       "      <th>min</th>\n",
       "      <th>25%</th>\n",
       "      <th>50%</th>\n",
       "      <th>75%</th>\n",
       "      <th>max</th>\n",
       "    </tr>\n",
       "  </thead>\n",
       "  <tbody>\n",
       "    <tr>\n",
       "      <th>Mn</th>\n",
       "      <td>3010000.0</td>\n",
       "      <td>958.66695</td>\n",
       "      <td>1272.488858</td>\n",
       "      <td>0.000084</td>\n",
       "      <td>80.772743</td>\n",
       "      <td>411.709403</td>\n",
       "      <td>1342.51439</td>\n",
       "      <td>8217.915561</td>\n",
       "    </tr>\n",
       "  </tbody>\n",
       "</table>\n",
       "</div>"
      ],
      "text/plain": [
       "        count       mean          std       min        25%         50%  \\\n",
       "Mn  3010000.0  958.66695  1272.488858  0.000084  80.772743  411.709403   \n",
       "\n",
       "           75%          max  \n",
       "Mn  1342.51439  8217.915561  "
      ]
     },
     "metadata": {},
     "output_type": "display_data"
    },
    {
     "data": {
      "image/png": "[encoded data removed]",
      "text/plain": [
       "<Figure size 600x400 with 1 Axes>"
      ]
     },
     "metadata": {},
     "output_type": "display_data"
    },
    {
     "data": {
      "image/png": "[encoded data removed]",
      "text/plain": [
       "<Figure size 600x400 with 1 Axes>"
      ]
     },
     "metadata": {},
     "output_type": "display_data"
    }
   ],
   "source": [
    "import matplotlib.pyplot as plt\n",
    "import numpy as np\n",
    "import pandas as pd\n",
    "from pathlib import Path\n",
    "\n",
    "# --- Paths\n",
    "RAW = Path(r\"C:\\Users\\amirn\\thesis-rc-beam\\data\\raw\\assistant\")\n",
    "\n",
    "# --- Load files\n",
    "X = np.load(RAW / \"Design_space2.npy\", allow_pickle=False)\n",
    "y = np.load(RAW / \"ACI440_Mn.npy\", allow_pickle=False)\n",
    "y_flat = y.ravel()\n",
    "\n",
    "# --- Check consistency\n",
    "print(f\"Design_space2 shape: {X.shape}\")\n",
    "print(f\"Flattened ACI440_Mn shape: {y_flat.shape}\")\n",
    "\n",
    "# --- Basic numeric overview\n",
    "df_y = pd.DataFrame(y_flat, columns=[\"Mn\"])\n",
    "print(\"\\nSummary statistics (Moment capacity, Mn):\")\n",
    "display(df_y.describe().T)\n",
    "\n",
    "# --- Plot histogram\n",
    "plt.figure(figsize=(6, 4))\n",
    "plt.hist(y_flat, bins=80, edgecolor='k', alpha=0.7)\n",
    "plt.title(\"Distribution of ACI440_Mn Values\")\n",
    "plt.xlabel(\"Moment Capacity (Mn)\")\n",
    "plt.ylabel(\"Frequency\")\n",
    "plt.grid(True, alpha=0.3)\n",
    "plt.show()\n",
    "\n",
    "# --- Quick scatter check (only first 5000 samples)\n",
    "plt.figure(figsize=(6, 4))\n",
    "plt.scatter(range(5000), y_flat[:5000], s=1, alpha=0.5)\n",
    "plt.title(\"First 5000 Moment Capacity Samples\")\n",
    "plt.xlabel(\"Sample Index\")\n",
    "plt.ylabel(\"Mn value\")\n",
    "plt.grid(True, alpha=0.3)\n",
    "plt.show()\n"
   ]
  },
  {
   "cell_type": "code",
   "execution_count": 12,
   "id": "e74a11f4-9dfe-4a50-a3f9-7ac58147aa0d",
   "metadata": {},
   "outputs": [
    {
     "name": "stdout",
     "output_type": "stream",
     "text": [
      "Shape: (3010000,)\n",
      "Dtype: float64\n",
      "\n",
      "Mn_flat: (3010000,), Mu2_flat: (3010000,)\n",
      "\n",
      "Summary statistics for Mu2:\n"
     ]
    },
    {
     "data": {
      "text/html": [
       "<div>\n",
       "<style scoped>\n",
       "    .dataframe tbody tr th:only-of-type {\n",
       "        vertical-align: middle;\n",
       "    }\n",
       "\n",
       "    .dataframe tbody tr th {\n",
       "        vertical-align: top;\n",
       "    }\n",
       "\n",
       "    .dataframe thead th {\n",
       "        text-align: right;\n",
       "    }\n",
       "</style>\n",
       "<table border=\"1\" class=\"dataframe\">\n",
       "  <thead>\n",
       "    <tr style=\"text-align: right;\">\n",
       "      <th></th>\n",
       "      <th>count</th>\n",
       "      <th>mean</th>\n",
       "      <th>std</th>\n",
       "      <th>min</th>\n",
       "      <th>25%</th>\n",
       "      <th>50%</th>\n",
       "      <th>75%</th>\n",
       "      <th>max</th>\n",
       "    </tr>\n",
       "  </thead>\n",
       "  <tbody>\n",
       "    <tr>\n",
       "      <th>Mu2</th>\n",
       "      <td>3010000.0</td>\n",
       "      <td>1106.963671</td>\n",
       "      <td>1498.854805</td>\n",
       "      <td>0.000089</td>\n",
       "      <td>89.573795</td>\n",
       "      <td>461.043973</td>\n",
       "      <td>1527.171674</td>\n",
       "      <td>9787.313603</td>\n",
       "    </tr>\n",
       "  </tbody>\n",
       "</table>\n",
       "</div>"
      ],
      "text/plain": [
       "         count         mean          std       min        25%         50%  \\\n",
       "Mu2  3010000.0  1106.963671  1498.854805  0.000089  89.573795  461.043973   \n",
       "\n",
       "             75%          max  \n",
       "Mu2  1527.171674  9787.313603  "
      ]
     },
     "metadata": {},
     "output_type": "display_data"
    },
    {
     "data": {
      "image/png": "[encoded data removed]",
      "text/plain": [
       "<Figure size 600x400 with 1 Axes>"
      ]
     },
     "metadata": {},
     "output_type": "display_data"
    }
   ],
   "source": [
    "import numpy as np\n",
    "import pandas as pd\n",
    "from pathlib import Path\n",
    "import matplotlib.pyplot as plt\n",
    "\n",
    "# --- Path\n",
    "RAW = Path(r\"C:\\Users\\amirn\\thesis-rc-beam\\data\\raw\\assistant\")\n",
    "\n",
    "# --- Load\n",
    "y_mu2 = np.load(RAW / \"Mu2.npy\", allow_pickle=False)\n",
    "print(\"Shape:\", y_mu2.shape)\n",
    "print(\"Dtype:\", y_mu2.dtype)\n",
    "\n",
    "# --- Flatten (if needed)\n",
    "if y_mu2.ndim > 1:\n",
    "    y_mu2_flat = y_mu2.ravel()\n",
    "    print(\"Flattened shape:\", y_mu2_flat.shape)\n",
    "else:\n",
    "    y_mu2_flat = y_mu2\n",
    "\n",
    "# --- Compare with ACI440_Mn\n",
    "y_mn = np.load(RAW / \"ACI440_Mn.npy\", allow_pickle=False).ravel()\n",
    "print(f\"\\nMn_flat: {y_mn.shape}, Mu2_flat: {y_mu2_flat.shape}\")\n",
    "\n",
    "# --- Basic stats\n",
    "df_mu2 = pd.DataFrame(y_mu2_flat, columns=['Mu2'])\n",
    "print(\"\\nSummary statistics for Mu2:\")\n",
    "display(df_mu2.describe().T)\n",
    "\n",
    "# --- Histogram\n",
    "plt.figure(figsize=(6,4))\n",
    "plt.hist(y_mu2_flat, bins=80, color='skyblue', edgecolor='k', alpha=0.7)\n",
    "plt.title(\"Distribution of Mu2 Values\")\n",
    "plt.xlabel(\"Mu2 Value\")\n",
    "plt.ylabel(\"Frequency\")\n",
    "plt.grid(True, alpha=0.3)\n",
    "plt.show()\n"
   ]
  },
  {
   "cell_type": "code",
   "execution_count": 13,
   "id": "1c508900-11d3-473d-b7d7-0dbed0c2b382",
   "metadata": {},
   "outputs": [
    {
     "name": "stdout",
     "output_type": "stream",
     "text": [
      "Shape: (100, 301, 100)\n",
      "Dtype: float64\n",
      "Flattened shape: (3010000,)\n",
      "\n",
      "ACI440_Mn: (3010000,), Mu2: (3010000,), Ana_TTC_M_u: (3010000,)\n",
      "\n",
      "Summary statistics for Ana_TTC_M_u:\n"
     ]
    },
    {
     "data": {
      "text/html": [
       "<div>\n",
       "<style scoped>\n",
       "    .dataframe tbody tr th:only-of-type {\n",
       "        vertical-align: middle;\n",
       "    }\n",
       "\n",
       "    .dataframe tbody tr th {\n",
       "        vertical-align: top;\n",
       "    }\n",
       "\n",
       "    .dataframe thead th {\n",
       "        text-align: right;\n",
       "    }\n",
       "</style>\n",
       "<table border=\"1\" class=\"dataframe\">\n",
       "  <thead>\n",
       "    <tr style=\"text-align: right;\">\n",
       "      <th></th>\n",
       "      <th>count</th>\n",
       "      <th>mean</th>\n",
       "      <th>std</th>\n",
       "      <th>min</th>\n",
       "      <th>25%</th>\n",
       "      <th>50%</th>\n",
       "      <th>75%</th>\n",
       "      <th>max</th>\n",
       "    </tr>\n",
       "  </thead>\n",
       "  <tbody>\n",
       "    <tr>\n",
       "      <th>Ana_TTC_M_u</th>\n",
       "      <td>3010000.0</td>\n",
       "      <td>1106.963671</td>\n",
       "      <td>1498.854805</td>\n",
       "      <td>0.000089</td>\n",
       "      <td>89.573795</td>\n",
       "      <td>461.043973</td>\n",
       "      <td>1527.171674</td>\n",
       "      <td>9787.313603</td>\n",
       "    </tr>\n",
       "  </tbody>\n",
       "</table>\n",
       "</div>"
      ],
      "text/plain": [
       "                 count         mean          std       min        25%  \\\n",
       "Ana_TTC_M_u  3010000.0  1106.963671  1498.854805  0.000089  89.573795   \n",
       "\n",
       "                    50%          75%          max  \n",
       "Ana_TTC_M_u  461.043973  1527.171674  9787.313603  "
      ]
     },
     "metadata": {},
     "output_type": "display_data"
    },
    {
     "data": {
      "image/png": "[encoded data removed]",
      "text/plain": [
       "<Figure size 600x400 with 1 Axes>"
      ]
     },
     "metadata": {},
     "output_type": "display_data"
    }
   ],
   "source": [
    "import numpy as np\n",
    "import pandas as pd\n",
    "import matplotlib.pyplot as plt\n",
    "from pathlib import Path\n",
    "\n",
    "# --- Path\n",
    "RAW = Path(r\"C:\\Users\\amirn\\thesis-rc-beam\\data\\raw\\assistant\")\n",
    "\n",
    "# --- Load the file\n",
    "y_ttc = np.load(RAW / \"Ana_TTC_M_u.npy\", allow_pickle=False)\n",
    "print(\"Shape:\", y_ttc.shape)\n",
    "print(\"Dtype:\", y_ttc.dtype)\n",
    "\n",
    "# --- Flatten if needed\n",
    "if y_ttc.ndim > 1:\n",
    "    y_ttc_flat = y_ttc.ravel()\n",
    "    print(\"Flattened shape:\", y_ttc_flat.shape)\n",
    "else:\n",
    "    y_ttc_flat = y_ttc\n",
    "\n",
    "# --- Compare with previous arrays\n",
    "y_mn = np.load(RAW / \"ACI440_Mn.npy\", allow_pickle=False).ravel()\n",
    "y_mu2 = np.load(RAW / \"Mu2.npy\", allow_pickle=False).ravel()\n",
    "print(f\"\\nACI440_Mn: {y_mn.shape}, Mu2: {y_mu2.shape}, Ana_TTC_M_u: {y_ttc_flat.shape}\")\n",
    "\n",
    "# --- Stats\n",
    "df_ttc = pd.DataFrame(y_ttc_flat, columns=['Ana_TTC_M_u'])\n",
    "print(\"\\nSummary statistics for Ana_TTC_M_u:\")\n",
    "display(df_ttc.describe().T)\n",
    "\n",
    "# --- Histogram\n",
    "plt.figure(figsize=(6,4))\n",
    "plt.hist(y_ttc_flat, bins=80, color='orange', edgecolor='k', alpha=0.7)\n",
    "plt.title(\"Distribution of Ana_TTC_M_u Values\")\n",
    "plt.xlabel(\"Ana_TTC_M_u Value\")\n",
    "plt.ylabel(\"Frequency\")\n",
    "plt.grid(True, alpha=0.3)\n",
    "plt.show()\n"
   ]
  },
  {
   "cell_type": "code",
   "execution_count": 14,
   "id": "bec1e672-ef10-42bd-800d-b202771edba9",
   "metadata": {},
   "outputs": [
    {
     "name": "stdout",
     "output_type": "stream",
     "text": [
      "Keys available in this file:\n",
      "  - rho_mesh (100, 301, 100) float64\n",
      "  - b_mesh (100, 301, 100) float64\n",
      "  - d_mesh (100, 301, 100) float64\n",
      "\n",
      "Sample values:\n",
      "rho_mesh: min=0.010, max=2.000, mean=1.005\n",
      "b_mesh: min=10.000, max=1000.000, mean=505.000\n",
      "d_mesh: min=10.000, max=1000.000, mean=505.000\n"
     ]
    }
   ],
   "source": [
    "import numpy as np\n",
    "from pathlib import Path\n",
    "\n",
    "# --- Path\n",
    "RAW = Path(r\"C:\\Users\\amirn\\thesis-rc-beam\\data\\raw\\assistant\")\n",
    "\n",
    "# --- Load the NPZ container\n",
    "mesh = np.load(RAW / \"designspace_meshgrid_data.npz\")\n",
    "\n",
    "# --- Display keys\n",
    "print(\"Keys available in this file:\")\n",
    "for k in mesh.files:\n",
    "    print(\"  -\", k, mesh[k].shape, mesh[k].dtype)\n",
    "\n",
    "# --- Optional: show a few sample values for each key\n",
    "print(\"\\nSample values:\")\n",
    "for k in mesh.files:\n",
    "    arr = mesh[k]\n",
    "    print(f\"{k}: min={arr.min():.3f}, max={arr.max():.3f}, mean={arr.mean():.3f}\")\n"
   ]
  },
  {
   "cell_type": "code",
   "execution_count": null,
   "id": "5609458e-9376-43f7-b124-bb39f19af493",
   "metadata": {},
   "outputs": [],
   "source": []
  }
 ],
 "metadata": {
  "kernelspec": {
   "display_name": "Python (thesis-env)",
   "language": "python",
   "name": "thesis-env"
  },
  "language_info": {
   "codemirror_mode": {
    "name": "ipython",
    "version": 3
   },
   "file_extension": ".py",
   "mimetype": "text/x-python",
   "name": "python",
   "nbconvert_exporter": "python",
   "pygments_lexer": "ipython3",
   "version": "3.10.18"
  }
 },
 "nbformat": 4,
 "nbformat_minor": 5
}
